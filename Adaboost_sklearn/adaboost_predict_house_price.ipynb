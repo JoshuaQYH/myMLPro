{
 "cells": [
  {
   "cell_type": "code",
   "execution_count": 15,
   "metadata": {},
   "outputs": [
    {
     "name": "stdout",
     "output_type": "stream",
     "text": [
      "The predicting result is  [19.89826087 10.68269231 14.43714286 17.8025     25.4        22.28\n",
      " 27.94134078 18.33103448 28.45876289 19.48614458 32.468      32.69882353\n",
      " 12.22222222 25.39281046 14.48666667 26.17142857 17.76818182 17.325\n",
      " 27.94134078 25.10642202 17.8025     18.33103448 17.8617801  19.26666667\n",
      " 28.45876289 18.11304348 22.28214286 25.90952381 12.22222222 28.10136054\n",
      " 17.76350365 26.3862069  10.58965517 21.59166667 26.3862069  30.91492537\n",
      " 26.40876494 12.6796875  15.128125   25.4        15.52477064 12.53888889\n",
      " 28.10136054 17.76818182 27.11328413 19.35449102 18.37777778 19.35449102\n",
      " 26.3862069  19.40689655 17.8025     33.03684211 16.30105263 17.57708333\n",
      " 26.32179487 21.02795699 25.39281046 17.76350365 24.38510638 22.28\n",
      " 19.26431718 17.57708333 44.715625   20.84328358 17.85       26.59470199\n",
      " 25.50697674 12.148      18.37777778 27.94134078 22.33035714 18.11304348\n",
      " 17.8025     27.48493724 19.41707317 46.47714286 15.83932584 11.40689655\n",
      " 18.33103448 25.4        20.66022727 15.47714286 12.53888889 25.12333333\n",
      " 20.90588235 21.02795699 47.88125    16.30105263 44.29230769 32.69882353\n",
      " 28.10136054 19.35449102 19.196      17.57708333 15.47714286 33.56511628\n",
      " 24.38510638 22.24117647 19.23173077 17.96835443 16.30105263 20.66022727\n",
      " 27.58962264 25.4        12.22222222 16.30105263 12.53888889 27.11328413\n",
      " 12.87142857 26.3862069  48.3027027  12.87142857 17.85       25.4\n",
      " 32.3342246  25.4        21.02795699 21.15319149 26.59470199 19.48614458\n",
      " 20.28       17.85       12.6796875  21.15319149 21.59166667 18.33103448\n",
      " 42.65833333]\n",
      "The mean squared error:  18.440303970709724\n"
     ]
    }
   ],
   "source": [
    "from sklearn.metrics import mean_squared_error\n",
    "from sklearn.datasets import load_boston\n",
    "from sklearn.model_selection import train_test_split\n",
    "from sklearn.ensemble import AdaBoostRegressor\n",
    "\n",
    "\n",
    "data = load_boston()\n",
    "\n",
    "train_x, test_x, train_y, test_y = train_test_split(data.data, data.target, \n",
    "                                                     test_size = 0.25, random_state=33)\n",
    "\n",
    "regressor = AdaBoostRegressor()\n",
    "regressor.fit(train_x, train_y)\n",
    "pred_y = regressor.predict(test_x)\n",
    "mse = mean_squared_error(test_y, pred_y)\n",
    "print(\"The predicting result is \", pred_y)\n",
    "print(\"The mean squared error: \" , mse)"
   ]
  }
 ],
 "metadata": {
  "kernelspec": {
   "display_name": "Python 3",
   "language": "python",
   "name": "python3"
  },
  "language_info": {
   "codemirror_mode": {
    "name": "ipython",
    "version": 3
   },
   "file_extension": ".py",
   "mimetype": "text/x-python",
   "name": "python",
   "nbconvert_exporter": "python",
   "pygments_lexer": "ipython3",
   "version": "3.7.1"
  }
 },
 "nbformat": 4,
 "nbformat_minor": 2
}
