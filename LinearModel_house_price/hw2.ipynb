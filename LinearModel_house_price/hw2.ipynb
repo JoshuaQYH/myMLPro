{
 "cells": [
  {
   "cell_type": "code",
   "execution_count": 12,
   "metadata": {},
   "outputs": [],
   "source": [
    "import numpy as np\n",
    "import pandas as pd\n",
    "import matplotlib.pyplot as plt\n",
    "from sklearn import preprocessing\n",
    "\n",
    "#-----------------------  prepare the train and test data ------------------ #\n",
    "\n",
    "def read_data(file_path):\n",
    "    datas = []\n",
    "    labels = []\n",
    "    with open(file_path, 'r') as f:\n",
    "            lines = f.readlines()\n",
    "            for line in lines:\n",
    "                line = line.rstrip(\"\\n\").split(\" \")\n",
    "                data = []\n",
    "                data.append(float(line[0])/100) # transform x1\n",
    "                data.append(float(line[1]))\n",
    "                datas.append(data)\n",
    "                labels.append(float(line[2])/100) # transform y\n",
    "    return np.array(datas), np.array(labels)\n",
    "\n",
    "\n",
    "train_file = \"./dataForTraining.txt\"\n",
    "test_file = \"./dataForTesting.txt\"\n",
    "\n",
    "train_data, train_label = read_data(train_file)\n",
    "test_data, test_label = read_data(test_file)\n",
    "\n",
    "# z-score \n",
    "# train_data = preprocessing.scale(train_data)\n",
    "# test_data = preprocessing.scale(test_data)\n",
    "\n",
    "# min - max \n",
    "#train_data = [(i - np.min(train_data))* 1.0 / (np.max(train_data) - np.min(train_data)) for i in train_data]\n",
    "#test_data = [(i - np.min(test_data))* 1.0 / (np.max(test_data) - np.min(test_data)) for i in test_data]\n",
    "#print(train_data)"
   ]
  },
  {
   "cell_type": "code",
   "execution_count": 22,
   "metadata": {},
   "outputs": [],
   "source": [
    "def show_curve(xs, ys1, ys2, title, label1, label2):\n",
    "    x = np.array(xs)\n",
    "    y1 = np.array(ys1)\n",
    "    y2 = np.array(ys2)\n",
    "    fig, ax = plt.subplots()\n",
    "    ax.plot(x, y1, label = label1)\n",
    "    ax.plot(x, y2, label = label2)\n",
    "    plt.title('{} Curve:'.format(title))\n",
    "    plt.xlabel('Epoch')\n",
    "    plt.ylabel('{} Value'.format(title))\n",
    "    ax.legend()\n",
    "    #plt.show()"
   ]
  },
  {
   "cell_type": "markdown",
   "metadata": {},
   "source": [
    "# 线性回归类"
   ]
  },
  {
   "cell_type": "code",
   "execution_count": 6,
   "metadata": {},
   "outputs": [],
   "source": [
    "#------------------------- define the linear regression class --------#\n",
    "\n",
    "class LinearRegression:\n",
    "    def __init__(self, w1, w2, b, lr, step, test_data, test_label):\n",
    "        self.w1 = w1\n",
    "        self.w2 = w2\n",
    "        self.b = b\n",
    "        self.lr = lr\n",
    "        self.step = step\n",
    "        self.test_data = test_data\n",
    "        self.test_label = test_label\n",
    "    \n",
    "    def fit(self, train_data, train_label, epoches,  train_method = \"BGD\"):\n",
    "        if train_method == \"BGD\":\n",
    "            return self.fit_by_BGD(train_data, train_label, epoches)\n",
    "        elif train_method == \"SGD\":\n",
    "            return self.fit_by_SGD(train_data, train_label, epoches)\n",
    "    \n",
    "    def loss_fn(self, data, label):\n",
    "        loss  = 0.0\n",
    "        for  i in range(len(data)):\n",
    "            loss += (self.w1 * data[i][0] + self.w2 * data[i][1] + self.b - label[i])**2\n",
    "        loss /= len(label) * 2\n",
    "        return loss\n",
    "    \n",
    "    def cal_grad(self, data, label, var_type, item_pos):\n",
    "        grad = 0.0\n",
    "        if var_type == \"constant\":  # common item\n",
    "            for i in range(len(data)):\n",
    "                grad += self.w1 * data[i][0] + self.w2 * data[i][1] + self.b - label[i]\n",
    "        elif var_type == \"one\": # once item\n",
    "            for i in range(len(data)):\n",
    "                grad += (self.w1 * data[i][0] + self.w2 * data[i][1] + self.b - label[i]) * data[i][item_pos]\n",
    "        grad /= len(data)\n",
    "        return grad\n",
    "    \n",
    "    def fit_by_BGD(self, train_data, train_label, epoches):\n",
    "        train_losses = []\n",
    "        test_losses = []\n",
    "        x_epoch = []\n",
    "        for epoch in range(epoches):\n",
    "            grad_w1 = self.cal_grad(train_data, train_label, \"one\", 0)\n",
    "            grad_w2 = self.cal_grad(train_data, train_label, \"one\", 1)\n",
    "            grad_b = self.cal_grad(train_data, train_label, \"constant\", -1) # -1 make no sense\n",
    "           \n",
    "            self.w1 = self.w1 - self.lr * grad_w1\n",
    "            self.w2 = self.w2 - self.lr * grad_w2\n",
    "            self.b = self.b - self.lr * grad_b\n",
    "            if (epoch + 1) % self.step == 0:\n",
    "                train_loss = self.loss_fn(train_data, train_label)\n",
    "                test_loss = self.loss_fn(self.test_data, self.test_label)\n",
    "                train_losses.append(train_loss)\n",
    "                test_losses.append(test_loss)\n",
    "                x_epoch.append(epoch + 1)\n",
    "                print(\"Epoch: {} / {}: train loss: {:.4f}  test loss:{:.4f}\".format(epoch+1, epoches, train_loss, test_loss))\n",
    "        self.show_param()\n",
    "        return train_losses, test_losses, x_epoch\n",
    "    \n",
    "    def fit_by_SGD(self, train_data, train_label, epoches):\n",
    "        dataset = []\n",
    "        train_losses = []\n",
    "        test_losses = []\n",
    "        x_epoch = []\n",
    "        for i in range(len(train_data)):\n",
    "                data = list(train_data[i])\n",
    "                data.append(train_label[i])\n",
    "                dataset.append(data)\n",
    "        dataset = np.array(dataset)\n",
    "        for epoch in range(epoches):\n",
    "            np.random.shuffle(dataset)\n",
    "            for i in range(len(dataset)):\n",
    "                X = [list(dataset[i][:-1])]\n",
    "                y  = [dataset[i][-1]]\n",
    "                grad_w1 = self.cal_grad(X, y, \"one\", 0)\n",
    "                grad_w2 = self.cal_grad(X, y, \"one\", 1)\n",
    "                grad_b = self.cal_grad(X, y, \"constant\", -1) # -1 make no sense\n",
    "                self.w1 = self.w1 - self.lr * grad_w1\n",
    "                self.w2 = self.w2 - self.lr * grad_w2\n",
    "                self.b = self.b - self.lr * grad_b\n",
    "            if (epoch + 1) % self.step == 0:\n",
    "                train_loss = self.loss_fn(train_data, train_label)\n",
    "                test_loss = self.loss_fn(self.test_data, self.test_label)\n",
    "                train_losses.append(train_loss)\n",
    "                test_losses.append(test_loss)\n",
    "                x_epoch.append(epoch + 1)\n",
    "                print(\"Epoch: {} / {}: train loss: {:.4f}  test loss:{:.4f}\".format(epoch+1, epoches, train_loss, test_loss))\n",
    "        self.show_param()\n",
    "        return  train_losses, test_losses, x_epoch\n",
    "    \n",
    "    def predict(self, data):\n",
    "        result = []\n",
    "        for i in range(len(data)):\n",
    "            result.append(data[i][0] * self.w1 + data[i][1] * self.w2 + self.b)\n",
    "        return result\n",
    "    \n",
    "    def score(self ,result, label):\n",
    "        error = 0.0\n",
    "        for i in range(len(result)):\n",
    "            error += (result[i] - label[i])**2\n",
    "        return error / len(result)\n",
    "    \n",
    "    def show_param(self):\n",
    "        print(self.w1, self.w2, self.b)"
   ]
  },
  {
   "cell_type": "markdown",
   "metadata": {},
   "source": [
    "# Ex 1  "
   ]
  },
  {
   "cell_type": "code",
   "execution_count": 24,
   "metadata": {},
   "outputs": [
    {
     "name": "stdout",
     "output_type": "stream",
     "text": [
      "Epoch: 100000 / 1500000: train loss: 0.1262  test loss:0.0744\n",
      "Epoch: 200000 / 1500000: train loss: 0.0562  test loss:0.0369\n",
      "Epoch: 300000 / 1500000: train loss: 0.0251  test loss:0.0199\n",
      "Epoch: 400000 / 1500000: train loss: 0.0112  test loss:0.0124\n",
      "Epoch: 500000 / 1500000: train loss: 0.0051  test loss:0.0091\n",
      "Epoch: 600000 / 1500000: train loss: 0.0024  test loss:0.0077\n",
      "Epoch: 700000 / 1500000: train loss: 0.0012  test loss:0.0071\n",
      "Epoch: 800000 / 1500000: train loss: 0.0006  test loss:0.0068\n",
      "Epoch: 900000 / 1500000: train loss: 0.0004  test loss:0.0067\n",
      "Epoch: 1000000 / 1500000: train loss: 0.0003  test loss:0.0067\n",
      "Epoch: 1100000 / 1500000: train loss: 0.0002  test loss:0.0067\n",
      "Epoch: 1200000 / 1500000: train loss: 0.0002  test loss:0.0067\n",
      "Epoch: 1300000 / 1500000: train loss: 0.0002  test loss:0.0067\n",
      "Epoch: 1400000 / 1500000: train loss: 0.0002  test loss:0.0067\n",
      "Epoch: 1500000 / 1500000: train loss: 0.0002  test loss:0.0067\n",
      "6.754087612408595 -0.7235582750277603 0.8015116764944286\n"
     ]
    },
    {
     "data": {
      "image/png": "[encoded data removed]",
      "text/plain": [
       "<Figure size 432x288 with 1 Axes>"
      ]
     },
     "metadata": {
      "needs_background": "light"
     },
     "output_type": "display_data"
    }
   ],
   "source": [
    "# --------------------------- hypermeter setting--------------------#\n",
    "EPOCHES = 1500000\n",
    "learning_rate = 0.00015\n",
    "\n",
    "#---------------------------- initial parameter setting -------------#\n",
    "# y = w1x1 + w2x2 + b\n",
    "w1 = 0.0\n",
    "w2 = 0.0\n",
    "b = 0.0\n",
    "step = 100000\n",
    "\n",
    "LR = LinearRegression(w1, w2, b, learning_rate, step, test_data, test_label)\n",
    "train_losses, test_losses, x_epoch = LR.fit(train_data, train_label, EPOCHES, \"BGD\")\n",
    "show_curve(x_epoch, train_losses, test_losses, \"The loss\", \"train loss\", \"test loss\")"
   ]
  },
  {
   "cell_type": "markdown",
   "metadata": {},
   "source": [
    "# Ex 2"
   ]
  },
  {
   "cell_type": "code",
   "execution_count": 25,
   "metadata": {},
   "outputs": [
    {
     "name": "stdout",
     "output_type": "stream",
     "text": [
      "Epoch: 100000 / 1500000: train loss: 0.0964  test loss:0.0589\n",
      "Epoch: 200000 / 1500000: train loss: 0.0328  test loss:0.0241\n",
      "Epoch: 300000 / 1500000: train loss: 0.0112  test loss:0.0124\n",
      "Epoch: 400000 / 1500000: train loss: 0.0039  test loss:0.0085\n",
      "Epoch: 500000 / 1500000: train loss: 0.0015  test loss:0.0072\n",
      "Epoch: 600000 / 1500000: train loss: 0.0006  test loss:0.0068\n",
      "Epoch: 700000 / 1500000: train loss: 0.0003  test loss:0.0067\n",
      "Epoch: 800000 / 1500000: train loss: 0.0002  test loss:0.0067\n",
      "Epoch: 900000 / 1500000: train loss: 0.0002  test loss:0.0067\n",
      "Epoch: 1000000 / 1500000: train loss: 0.0002  test loss:0.0067\n",
      "Epoch: 1100000 / 1500000: train loss: 0.0002  test loss:0.0067\n",
      "Epoch: 1200000 / 1500000: train loss: 0.0002  test loss:0.0067\n",
      "Epoch: 1300000 / 1500000: train loss: 0.0002  test loss:0.0067\n",
      "Epoch: 1400000 / 1500000: train loss: 0.0002  test loss:0.0067\n",
      "Epoch: 1500000 / 1500000: train loss: 0.0002  test loss:0.0067\n",
      "6.760904789760574 -0.7237758374402526 0.7955432777219998\n"
     ]
    },
    {
     "data": {
      "image/png": "[encoded data removed]",
      "text/plain": [
       "<Figure size 432x288 with 1 Axes>"
      ]
     },
     "metadata": {
      "needs_background": "light"
     },
     "output_type": "display_data"
    }
   ],
   "source": [
    "# --------------------------- hypermeter setting--------------------#\n",
    "EPOCHES = 1500000\n",
    "learning_rate = 0.0002\n",
    "\n",
    "#---------------------------- initial parameter setting -------------#\n",
    "# y = w1x1 + w2x2 + b\n",
    "w1 = 0.0\n",
    "w2 = 0.0\n",
    "b = 0.0\n",
    "step = 100000 \n",
    "\n",
    "LR = LinearRegression(w1, w2, b, learning_rate, step, test_data, test_label)\n",
    "train_losses, test_losses, x_epoch = LR.fit(train_data, train_label, EPOCHES, \"BGD\")\n",
    "show_curve(x_epoch, train_losses, test_losses, \"The loss\", \"train loss\", \"test loss\")"
   ]
  },
  {
   "cell_type": "markdown",
   "metadata": {},
   "source": [
    " # Ex 3"
   ]
  },
  {
   "cell_type": "code",
   "execution_count": 26,
   "metadata": {},
   "outputs": [
    {
     "name": "stdout",
     "output_type": "stream",
     "text": [
      "Epoch: 10000 / 150000: train loss: 0.0051  test loss:0.0091\n",
      "Epoch: 20000 / 150000: train loss: 0.0003  test loss:0.0067\n",
      "Epoch: 30000 / 150000: train loss: 0.0002  test loss:0.0067\n",
      "Epoch: 40000 / 150000: train loss: 0.0002  test loss:0.0067\n",
      "Epoch: 50000 / 150000: train loss: 0.0002  test loss:0.0067\n",
      "Epoch: 60000 / 150000: train loss: 0.0002  test loss:0.0067\n",
      "Epoch: 70000 / 150000: train loss: 0.0002  test loss:0.0067\n",
      "Epoch: 80000 / 150000: train loss: 0.0002  test loss:0.0067\n",
      "Epoch: 90000 / 150000: train loss: 0.0002  test loss:0.0067\n",
      "Epoch: 100000 / 150000: train loss: 0.0002  test loss:0.0067\n",
      "Epoch: 110000 / 150000: train loss: 0.0002  test loss:0.0067\n",
      "Epoch: 120000 / 150000: train loss: 0.0002  test loss:0.0067\n",
      "Epoch: 130000 / 150000: train loss: 0.0002  test loss:0.0067\n",
      "Epoch: 140000 / 150000: train loss: 0.0002  test loss:0.0067\n",
      "Epoch: 150000 / 150000: train loss: 0.0002  test loss:0.0067\n",
      "6.7619577860318785 -0.723815742328031 0.7946307602927977\n"
     ]
    },
    {
     "data": {
      "image/png": "[encoded data removed]",
      "text/plain": [
       "<Figure size 432x288 with 1 Axes>"
      ]
     },
     "metadata": {
      "needs_background": "light"
     },
     "output_type": "display_data"
    }
   ],
   "source": [
    "# --------------------------- hypermeter setting--------------------#\n",
    "EPOCHES = 150000\n",
    "learning_rate = 0.00015\n",
    "\n",
    "#---------------------------- initial parameter setting -------------#\n",
    "# y = w1x1 + w2x2 + b\n",
    "w1 = 0.0\n",
    "w2 = 0.0\n",
    "b = 0.0\n",
    "step = 10000\n",
    "method = \"SGD\"\n",
    "LR = LinearRegression(w1, w2, b, learning_rate, step, test_data, test_label)\n",
    "train_losses, test_losses, x_epoch = LR.fit(train_data, train_label, EPOCHES, method)\n",
    "show_curve(x_epoch, train_losses, test_losses, \"The loss\", \"train loss\", \"test loss\")"
   ]
  }
 ],
 "metadata": {
  "kernelspec": {
   "display_name": "Python 3",
   "language": "python",
   "name": "python3"
  },
  "language_info": {
   "codemirror_mode": {
    "name": "ipython",
    "version": 3
   },
   "file_extension": ".py",
   "mimetype": "text/x-python",
   "name": "python",
   "nbconvert_exporter": "python",
   "pygments_lexer": "ipython3",
   "version": "3.7.1"
  }
 },
 "nbformat": 4,
 "nbformat_minor": 2
}
